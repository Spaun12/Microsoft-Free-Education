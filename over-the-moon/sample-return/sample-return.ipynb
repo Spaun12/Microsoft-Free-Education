{
 "cells": [
  {
   "cell_type": "code",
   "execution_count": 25,
   "metadata": {},
   "outputs": [
    {
     "ename": "TypeError",
     "evalue": "'set' type is unordered",
     "output_type": "error",
     "traceback": [
      "\u001b[1;31m---------------------------------------------------------------------------\u001b[0m",
      "\u001b[1;31mTypeError\u001b[0m                                 Traceback (most recent call last)",
      "Cell \u001b[1;32mIn[25], line 27\u001b[0m\n\u001b[0;32m     24\u001b[0m missions[\u001b[39m'\u001b[39m\u001b[39mWeight diff\u001b[39m\u001b[39m'\u001b[39m] \u001b[39m=\u001b[39m missions[\u001b[39m'\u001b[39m\u001b[39mWeight diff\u001b[39m\u001b[39m'\u001b[39m]\u001b[39m.\u001b[39mfillna(value\u001b[39m=\u001b[39m\u001b[39m0\u001b[39m)\n\u001b[0;32m     25\u001b[0m missions\n\u001b[1;32m---> 27\u001b[0m missions[\u001b[39m'\u001b[39;49m\u001b[39mLunar module (LM)\u001b[39;49m\u001b[39m'\u001b[39;49m] \u001b[39m=\u001b[39m {\u001b[39m'\u001b[39m\u001b[39mEagle (LM-5)\u001b[39m\u001b[39m'\u001b[39m, \u001b[39m'\u001b[39m\u001b[39mIntrepid (LM-6)\u001b[39m\u001b[39m'\u001b[39m, \u001b[39m'\u001b[39m\u001b[39mAntares (LM-8)\u001b[39m\u001b[39m'\u001b[39m, \u001b[39m'\u001b[39m\u001b[39mFalcon (LM-10)\u001b[39m\u001b[39m'\u001b[39m, \u001b[39m'\u001b[39m\u001b[39mOrion (LM-11)\u001b[39m\u001b[39m'\u001b[39m, \u001b[39m'\u001b[39m\u001b[39mChallenger (LM-12)\u001b[39m\u001b[39m'\u001b[39m}\n\u001b[0;32m     28\u001b[0m missions[\u001b[39m'\u001b[39m\u001b[39mLM mass (kg)\u001b[39m\u001b[39m'\u001b[39m] \u001b[39m=\u001b[39m {\u001b[39m15103\u001b[39m, \u001b[39m15235\u001b[39m, \u001b[39m15264\u001b[39m, \u001b[39m16430\u001b[39m, \u001b[39m16445\u001b[39m, \u001b[39m16456\u001b[39m}\n\u001b[0;32m     29\u001b[0m missions[\u001b[39m'\u001b[39m\u001b[39mLM mass diff\u001b[39m\u001b[39m'\u001b[39m] \u001b[39m=\u001b[39m missions[\u001b[39m'\u001b[39m\u001b[39mLM mass (kg)\u001b[39m\u001b[39m'\u001b[39m]\u001b[39m.\u001b[39mdiff()\n",
      "File \u001b[1;32mc:\\Users\\User1\\AppData\\Local\\Programs\\Python\\Python311\\Lib\\site-packages\\pandas\\core\\frame.py:3978\u001b[0m, in \u001b[0;36mDataFrame.__setitem__\u001b[1;34m(self, key, value)\u001b[0m\n\u001b[0;32m   3975\u001b[0m     \u001b[39mself\u001b[39m\u001b[39m.\u001b[39m_setitem_array([key], value)\n\u001b[0;32m   3976\u001b[0m \u001b[39melse\u001b[39;00m:\n\u001b[0;32m   3977\u001b[0m     \u001b[39m# set column\u001b[39;00m\n\u001b[1;32m-> 3978\u001b[0m     \u001b[39mself\u001b[39;49m\u001b[39m.\u001b[39;49m_set_item(key, value)\n",
      "File \u001b[1;32mc:\\Users\\User1\\AppData\\Local\\Programs\\Python\\Python311\\Lib\\site-packages\\pandas\\core\\frame.py:4172\u001b[0m, in \u001b[0;36mDataFrame._set_item\u001b[1;34m(self, key, value)\u001b[0m\n\u001b[0;32m   4162\u001b[0m \u001b[39mdef\u001b[39;00m \u001b[39m_set_item\u001b[39m(\u001b[39mself\u001b[39m, key, value) \u001b[39m-\u001b[39m\u001b[39m>\u001b[39m \u001b[39mNone\u001b[39;00m:\n\u001b[0;32m   4163\u001b[0m \u001b[39m    \u001b[39m\u001b[39m\"\"\"\u001b[39;00m\n\u001b[0;32m   4164\u001b[0m \u001b[39m    Add series to DataFrame in specified column.\u001b[39;00m\n\u001b[0;32m   4165\u001b[0m \n\u001b[1;32m   (...)\u001b[0m\n\u001b[0;32m   4170\u001b[0m \u001b[39m    ensure homogeneity.\u001b[39;00m\n\u001b[0;32m   4171\u001b[0m \u001b[39m    \"\"\"\u001b[39;00m\n\u001b[1;32m-> 4172\u001b[0m     value \u001b[39m=\u001b[39m \u001b[39mself\u001b[39;49m\u001b[39m.\u001b[39;49m_sanitize_column(value)\n\u001b[0;32m   4174\u001b[0m     \u001b[39mif\u001b[39;00m (\n\u001b[0;32m   4175\u001b[0m         key \u001b[39min\u001b[39;00m \u001b[39mself\u001b[39m\u001b[39m.\u001b[39mcolumns\n\u001b[0;32m   4176\u001b[0m         \u001b[39mand\u001b[39;00m value\u001b[39m.\u001b[39mndim \u001b[39m==\u001b[39m \u001b[39m1\u001b[39m\n\u001b[0;32m   4177\u001b[0m         \u001b[39mand\u001b[39;00m \u001b[39mnot\u001b[39;00m is_extension_array_dtype(value)\n\u001b[0;32m   4178\u001b[0m     ):\n\u001b[0;32m   4179\u001b[0m         \u001b[39m# broadcast across multiple columns if necessary\u001b[39;00m\n\u001b[0;32m   4180\u001b[0m         \u001b[39mif\u001b[39;00m \u001b[39mnot\u001b[39;00m \u001b[39mself\u001b[39m\u001b[39m.\u001b[39mcolumns\u001b[39m.\u001b[39mis_unique \u001b[39mor\u001b[39;00m \u001b[39misinstance\u001b[39m(\u001b[39mself\u001b[39m\u001b[39m.\u001b[39mcolumns, MultiIndex):\n",
      "File \u001b[1;32mc:\\Users\\User1\\AppData\\Local\\Programs\\Python\\Python311\\Lib\\site-packages\\pandas\\core\\frame.py:4913\u001b[0m, in \u001b[0;36mDataFrame._sanitize_column\u001b[1;34m(self, value)\u001b[0m\n\u001b[0;32m   4911\u001b[0m \u001b[39mif\u001b[39;00m is_list_like(value):\n\u001b[0;32m   4912\u001b[0m     com\u001b[39m.\u001b[39mrequire_length_match(value, \u001b[39mself\u001b[39m\u001b[39m.\u001b[39mindex)\n\u001b[1;32m-> 4913\u001b[0m \u001b[39mreturn\u001b[39;00m sanitize_array(value, \u001b[39mself\u001b[39;49m\u001b[39m.\u001b[39;49mindex, copy\u001b[39m=\u001b[39;49m\u001b[39mTrue\u001b[39;49;00m, allow_2d\u001b[39m=\u001b[39;49m\u001b[39mTrue\u001b[39;49;00m)\n",
      "File \u001b[1;32mc:\\Users\\User1\\AppData\\Local\\Programs\\Python\\Python311\\Lib\\site-packages\\pandas\\core\\construction.py:611\u001b[0m, in \u001b[0;36msanitize_array\u001b[1;34m(data, index, dtype, copy, raise_cast_failure, allow_2d)\u001b[0m\n\u001b[0;32m    608\u001b[0m \u001b[39melse\u001b[39;00m:\n\u001b[0;32m    609\u001b[0m     \u001b[39mif\u001b[39;00m \u001b[39misinstance\u001b[39m(data, (\u001b[39mset\u001b[39m, \u001b[39mfrozenset\u001b[39m)):\n\u001b[0;32m    610\u001b[0m         \u001b[39m# Raise only for unordered sets, e.g., not for dict_keys\u001b[39;00m\n\u001b[1;32m--> 611\u001b[0m         \u001b[39mraise\u001b[39;00m \u001b[39mTypeError\u001b[39;00m(\u001b[39mf\u001b[39m\u001b[39m\"\u001b[39m\u001b[39m'\u001b[39m\u001b[39m{\u001b[39;00m\u001b[39mtype\u001b[39m(data)\u001b[39m.\u001b[39m\u001b[39m__name__\u001b[39m\u001b[39m}\u001b[39;00m\u001b[39m'\u001b[39m\u001b[39m type is unordered\u001b[39m\u001b[39m\"\u001b[39m)\n\u001b[0;32m    613\u001b[0m     \u001b[39m# materialize e.g. generators, convert e.g. tuples, abc.ValueView\u001b[39;00m\n\u001b[0;32m    614\u001b[0m     \u001b[39mif\u001b[39;00m \u001b[39mhasattr\u001b[39m(data, \u001b[39m\"\u001b[39m\u001b[39m__array__\u001b[39m\u001b[39m\"\u001b[39m):\n\u001b[0;32m    615\u001b[0m         \u001b[39m# e.g. dask array GH#38645\u001b[39;00m\n",
      "\u001b[1;31mTypeError\u001b[0m: 'set' type is unordered"
     ]
    }
   ],
   "source": [
    "import pandas as pd \n",
    "\n",
    "rock_samples = pd.read_csv('data/rocksamples.csv') \n",
    "\n",
    "rock_samples['Weight (g)'] = rock_samples['Weight (g)'].apply(lambda x : x * 0.001)\n",
    "rock_samples.rename(columns={'Weight (g)':'Weight (kg)'}, inplace=True)\n",
    "rock_samples.head()\n",
    "\n",
    "missions = pd.DataFrame()\n",
    "missions['Mission'] = rock_samples['Mission'].unique()\n",
    "missions.head()\n",
    "\n",
    "sample_total_weight = rock_samples.groupby('Mission')['Weight (kg)'].sum()\n",
    "missions = pd.merge(missions, sample_total_weight, on='Mission')\n",
    "missions.rename(columns={'Weight (kg)':'Sample weight (kg)'}, inplace=True)\n",
    "missions\n",
    "\n",
    "sample_total_weight = rock_samples.groupby('Mission')['Weight (kg)'].sum()\n",
    "sample_total_weight\n",
    "\n",
    "missions['Weight diff'] = missions['Sample weight (kg)'].diff()\n",
    "missions\n",
    "\n",
    "missions['Weight diff'] = missions['Weight diff'].fillna(value=0)\n",
    "missions\n",
    "\n",
    "missions['Lunar module (LM)'] = {'Eagle (LM-5)', 'Intrepid (LM-6)', 'Antares (LM-8)', 'Falcon (LM-10)', 'Orion (LM-11)', 'Challenger (LM-12)'}\n",
    "missions['LM mass (kg)'] = {15103, 15235, 15264, 16430, 16445, 16456}\n",
    "missions['LM mass diff'] = missions['LM mass (kg)'].diff()\n",
    "missions['LM mass diff'] = missions['LM mass diff'].fillna(value=0)\n",
    "\n",
    "missions['Command module (CM)'] = {'Columbia (CSM-107)', 'Yankee Clipper (CM-108)', 'Kitty Hawk (CM-110)', 'Endeavor (CM-112)', 'Casper (CM-113)', 'America (CM-114)'}\n",
    "missions['CM mass (kg)'] = {5560, 5609, 5758, 5875, 5840, 5960}\n",
    "missions['CM mass diff'] = missions['CM mass (kg)'].diff()\n",
    "missions['CM mass diff'] = missions['CM mass diff'].fillna(value=0)\n",
    "\n",
    "missions"
   ]
  }
 ],
 "metadata": {
  "kernelspec": {
   "display_name": "Python 3",
   "language": "python",
   "name": "python3"
  },
  "language_info": {
   "codemirror_mode": {
    "name": "ipython",
    "version": 3
   },
   "file_extension": ".py",
   "mimetype": "text/x-python",
   "name": "python",
   "nbconvert_exporter": "python",
   "pygments_lexer": "ipython3",
   "version": "3.11.0"
  },
  "orig_nbformat": 4,
  "vscode": {
   "interpreter": {
    "hash": "fc029fa9776586a9f3cd008602f21f7e9f786da65e564d37c50891fe19f0fbb4"
   }
  }
 },
 "nbformat": 4,
 "nbformat_minor": 2
}
